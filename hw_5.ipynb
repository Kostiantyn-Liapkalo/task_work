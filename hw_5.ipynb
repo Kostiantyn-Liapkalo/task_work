{
 "cells": [
  {
   "cell_type": "code",
   "execution_count": 23,
   "id": "initial_id",
   "metadata": {
    "collapsed": true,
    "ExecuteTime": {
     "end_time": "2023-09-10T19:56:20.856604410Z",
     "start_time": "2023-09-10T19:56:20.668922637Z"
    }
   },
   "outputs": [],
   "source": [
    "import pandas as pd\n",
    "import numpy as np\n",
    "import zipfile\n",
    "import os\n",
    "\n",
    "from scipy.stats import entropy, skew\n",
    "from sklearn.ensemble import RandomForestClassifier\n",
    "from sklearn import svm\n",
    "from sklearn.model_selection import train_test_split, GridSearchCV, RandomizedSearchCV\n",
    "from sklearn.metrics import classification_report"
   ]
  },
  {
   "cell_type": "code",
   "execution_count": 24,
   "outputs": [],
   "source": [
    "zip_files = 'homework.zip'\n",
    "\n",
    "with zipfile.ZipFile(zip_files, 'r') as zip_ref:\n",
    "    zip_ref.extractall('unzip_folder')"
   ],
   "metadata": {
    "collapsed": false,
    "ExecuteTime": {
     "end_time": "2023-09-10T19:56:23.251755218Z",
     "start_time": "2023-09-10T19:56:20.717698303Z"
    }
   },
   "id": "84ad68996d842f6e"
  },
  {
   "cell_type": "code",
   "execution_count": 25,
   "outputs": [],
   "source": [
    "def load_data_frame(folder_path):\n",
    "\n",
    "    data = pd.DataFrame()\n",
    "    type_activity = os.path.basename(folder_path)\n",
    "    for filename in os.listdir(folder_path):\n",
    "\n",
    "      if filename.endswith('.csv'):\n",
    "        df = pd.read_csv(os.path.join(folder_path, filename))\n",
    "        data_d = pd.DataFrame(\n",
    "        {\n",
    "        'max_x': df['accelerometer_X'].max(),\n",
    "        'min_x': df['accelerometer_X'].min(),\n",
    "        'mean_x': df['accelerometer_X'].mean(),\n",
    "        'std_x': df['accelerometer_X'].std(),\n",
    "\n",
    "        'max_y': df['accelerometer_Y'].max(),\n",
    "        'min_y': df['accelerometer_Y'].min(),\n",
    "        'mean_y': df['accelerometer_Y'].mean(),\n",
    "        'std_y': df['accelerometer_Y'].std(),\n",
    "\n",
    "        'max_z': df['accelerometer_Z'].max(),\n",
    "        'min_z': df['accelerometer_Z'].min(),\n",
    "        'mean_z': df['accelerometer_Z'].mean(),\n",
    "        'std_z': df['accelerometer_Z'].std(),\n",
    "        'type_activity': type_activity,\n",
    "        }, index=[0]\n",
    "        )\n",
    "        data = pd.concat([data, data_d]).reset_index(drop=True)\n",
    "\n",
    "    return data"
   ],
   "metadata": {
    "collapsed": false,
    "ExecuteTime": {
     "end_time": "2023-09-10T19:56:23.341203813Z",
     "start_time": "2023-09-10T19:56:23.251421757Z"
    }
   },
   "id": "11ce8e600b4af37e"
  },
  {
   "cell_type": "code",
   "execution_count": 26,
   "outputs": [],
   "source": [
    "walk_path = 'unzip_folder/data/walking'\n",
    "stairs_path = 'unzip_folder/data/stairs'\n",
    "run_path = 'unzip_folder/data/running'\n",
    "idle_path = 'unzip_folder/data/idle'\n",
    "\n",
    "walk_df = load_data_frame(walk_path)\n",
    "stairs_df = load_data_frame(stairs_path)\n",
    "run_df = load_data_frame(run_path)\n",
    "idle_df = load_data_frame(idle_path)"
   ],
   "metadata": {
    "collapsed": false,
    "ExecuteTime": {
     "end_time": "2023-09-10T19:56:57.233628618Z",
     "start_time": "2023-09-10T19:56:23.268559275Z"
    }
   },
   "id": "723761f92f43787c"
  },
  {
   "cell_type": "code",
   "execution_count": 27,
   "outputs": [],
   "source": [
    "df = pd.concat([walk_df, stairs_df, run_df, idle_df]).reset_index(drop=True)"
   ],
   "metadata": {
    "collapsed": false,
    "ExecuteTime": {
     "end_time": "2023-09-10T19:56:57.295997698Z",
     "start_time": "2023-09-10T19:56:57.281319961Z"
    }
   },
   "id": "9df8fc0ae24754a2"
  },
  {
   "cell_type": "code",
   "execution_count": 28,
   "outputs": [
    {
     "data": {
      "text/plain": "          max_x      min_x    mean_x     std_x      max_y      min_y  \\\n0      0.363919 -16.333244 -4.189055  4.385627   4.783615 -16.242264   \n1     16.132132  -7.043741  3.882118  4.434384  -3.907337 -19.378668   \n2     16.132132 -11.755530  1.832362  5.215808  -3.912125 -19.378668   \n3      9.375694 -12.876017  0.174936  5.623429  10.055647 -24.823084   \n4      4.156334 -11.951855 -3.197536  4.161091   9.251195 -17.894264   \n...         ...        ...       ...       ...        ...        ...   \n6457   0.325611   0.220267  0.265916  0.025204   0.076614  -0.067038   \n6458   0.828394  -0.885855 -0.082999  0.388219   7.465121   6.090849   \n6459   0.488417  -0.861913 -0.240218  0.308297   7.139510   4.563349   \n6460   2.035071  -0.459687  0.067516  0.518483   7.580043   3.840300   \n6461   0.344765   0.215478  0.259851  0.027027   0.114922  -0.153229   \n\n         mean_y     std_y      max_z      min_z    mean_z     std_z  \\\n0     -8.317297  5.038919   3.591303 -15.710752 -2.899857  4.888471   \n1    -11.663753  4.865778  15.710752 -19.038692 -0.581791  5.680558   \n2    -11.681470  4.858045  26.743233 -19.038692 -0.198878  8.125054   \n3     -8.960220  7.006229  13.450625 -12.449849 -0.963107  5.741857   \n4     -7.924967  7.101022  24.076092 -22.108059 -1.519520  9.653732   \n...         ...       ...        ...        ...       ...       ...   \n6457  -0.024421  0.028352   9.801862   9.730036  9.765630  0.017903   \n6458   6.741593  0.303691   9.260772   5.975928  7.064013  0.643167   \n6459   5.941770  0.608575  10.237606   5.702989  7.539182  0.838954   \n6460   4.576277  0.757588   9.892841   3.423709  8.333897  1.181953   \n6461  -0.015163  0.043653   9.792285   9.653421  9.762757  0.028925   \n\n     type_activity  \n0          walking  \n1          walking  \n2          walking  \n3          walking  \n4          walking  \n...            ...  \n6457          idle  \n6458          idle  \n6459          idle  \n6460          idle  \n6461          idle  \n\n[6462 rows x 13 columns]",
      "text/html": "<div>\n<style scoped>\n    .dataframe tbody tr th:only-of-type {\n        vertical-align: middle;\n    }\n\n    .dataframe tbody tr th {\n        vertical-align: top;\n    }\n\n    .dataframe thead th {\n        text-align: right;\n    }\n</style>\n<table border=\"1\" class=\"dataframe\">\n  <thead>\n    <tr style=\"text-align: right;\">\n      <th></th>\n      <th>max_x</th>\n      <th>min_x</th>\n      <th>mean_x</th>\n      <th>std_x</th>\n      <th>max_y</th>\n      <th>min_y</th>\n      <th>mean_y</th>\n      <th>std_y</th>\n      <th>max_z</th>\n      <th>min_z</th>\n      <th>mean_z</th>\n      <th>std_z</th>\n      <th>type_activity</th>\n    </tr>\n  </thead>\n  <tbody>\n    <tr>\n      <th>0</th>\n      <td>0.363919</td>\n      <td>-16.333244</td>\n      <td>-4.189055</td>\n      <td>4.385627</td>\n      <td>4.783615</td>\n      <td>-16.242264</td>\n      <td>-8.317297</td>\n      <td>5.038919</td>\n      <td>3.591303</td>\n      <td>-15.710752</td>\n      <td>-2.899857</td>\n      <td>4.888471</td>\n      <td>walking</td>\n    </tr>\n    <tr>\n      <th>1</th>\n      <td>16.132132</td>\n      <td>-7.043741</td>\n      <td>3.882118</td>\n      <td>4.434384</td>\n      <td>-3.907337</td>\n      <td>-19.378668</td>\n      <td>-11.663753</td>\n      <td>4.865778</td>\n      <td>15.710752</td>\n      <td>-19.038692</td>\n      <td>-0.581791</td>\n      <td>5.680558</td>\n      <td>walking</td>\n    </tr>\n    <tr>\n      <th>2</th>\n      <td>16.132132</td>\n      <td>-11.755530</td>\n      <td>1.832362</td>\n      <td>5.215808</td>\n      <td>-3.912125</td>\n      <td>-19.378668</td>\n      <td>-11.681470</td>\n      <td>4.858045</td>\n      <td>26.743233</td>\n      <td>-19.038692</td>\n      <td>-0.198878</td>\n      <td>8.125054</td>\n      <td>walking</td>\n    </tr>\n    <tr>\n      <th>3</th>\n      <td>9.375694</td>\n      <td>-12.876017</td>\n      <td>0.174936</td>\n      <td>5.623429</td>\n      <td>10.055647</td>\n      <td>-24.823084</td>\n      <td>-8.960220</td>\n      <td>7.006229</td>\n      <td>13.450625</td>\n      <td>-12.449849</td>\n      <td>-0.963107</td>\n      <td>5.741857</td>\n      <td>walking</td>\n    </tr>\n    <tr>\n      <th>4</th>\n      <td>4.156334</td>\n      <td>-11.951855</td>\n      <td>-3.197536</td>\n      <td>4.161091</td>\n      <td>9.251195</td>\n      <td>-17.894264</td>\n      <td>-7.924967</td>\n      <td>7.101022</td>\n      <td>24.076092</td>\n      <td>-22.108059</td>\n      <td>-1.519520</td>\n      <td>9.653732</td>\n      <td>walking</td>\n    </tr>\n    <tr>\n      <th>...</th>\n      <td>...</td>\n      <td>...</td>\n      <td>...</td>\n      <td>...</td>\n      <td>...</td>\n      <td>...</td>\n      <td>...</td>\n      <td>...</td>\n      <td>...</td>\n      <td>...</td>\n      <td>...</td>\n      <td>...</td>\n      <td>...</td>\n    </tr>\n    <tr>\n      <th>6457</th>\n      <td>0.325611</td>\n      <td>0.220267</td>\n      <td>0.265916</td>\n      <td>0.025204</td>\n      <td>0.076614</td>\n      <td>-0.067038</td>\n      <td>-0.024421</td>\n      <td>0.028352</td>\n      <td>9.801862</td>\n      <td>9.730036</td>\n      <td>9.765630</td>\n      <td>0.017903</td>\n      <td>idle</td>\n    </tr>\n    <tr>\n      <th>6458</th>\n      <td>0.828394</td>\n      <td>-0.885855</td>\n      <td>-0.082999</td>\n      <td>0.388219</td>\n      <td>7.465121</td>\n      <td>6.090849</td>\n      <td>6.741593</td>\n      <td>0.303691</td>\n      <td>9.260772</td>\n      <td>5.975928</td>\n      <td>7.064013</td>\n      <td>0.643167</td>\n      <td>idle</td>\n    </tr>\n    <tr>\n      <th>6459</th>\n      <td>0.488417</td>\n      <td>-0.861913</td>\n      <td>-0.240218</td>\n      <td>0.308297</td>\n      <td>7.139510</td>\n      <td>4.563349</td>\n      <td>5.941770</td>\n      <td>0.608575</td>\n      <td>10.237606</td>\n      <td>5.702989</td>\n      <td>7.539182</td>\n      <td>0.838954</td>\n      <td>idle</td>\n    </tr>\n    <tr>\n      <th>6460</th>\n      <td>2.035071</td>\n      <td>-0.459687</td>\n      <td>0.067516</td>\n      <td>0.518483</td>\n      <td>7.580043</td>\n      <td>3.840300</td>\n      <td>4.576277</td>\n      <td>0.757588</td>\n      <td>9.892841</td>\n      <td>3.423709</td>\n      <td>8.333897</td>\n      <td>1.181953</td>\n      <td>idle</td>\n    </tr>\n    <tr>\n      <th>6461</th>\n      <td>0.344765</td>\n      <td>0.215478</td>\n      <td>0.259851</td>\n      <td>0.027027</td>\n      <td>0.114922</td>\n      <td>-0.153229</td>\n      <td>-0.015163</td>\n      <td>0.043653</td>\n      <td>9.792285</td>\n      <td>9.653421</td>\n      <td>9.762757</td>\n      <td>0.028925</td>\n      <td>idle</td>\n    </tr>\n  </tbody>\n</table>\n<p>6462 rows × 13 columns</p>\n</div>"
     },
     "execution_count": 28,
     "metadata": {},
     "output_type": "execute_result"
    }
   ],
   "source": [
    "df"
   ],
   "metadata": {
    "collapsed": false,
    "ExecuteTime": {
     "end_time": "2023-09-10T19:56:57.336498463Z",
     "start_time": "2023-09-10T19:56:57.281931323Z"
    }
   },
   "id": "ea3d6a58535f894"
  },
  {
   "cell_type": "code",
   "execution_count": 29,
   "outputs": [],
   "source": [
    "X = df.drop('type_activity', axis=1)\n",
    "y = df['type_activity']\n",
    "\n",
    "X_train, X_test, y_train, y_test = train_test_split(X, y, test_size=0.2, random_state=42)"
   ],
   "metadata": {
    "collapsed": false,
    "ExecuteTime": {
     "end_time": "2023-09-10T19:56:57.413988093Z",
     "start_time": "2023-09-10T19:56:57.317323430Z"
    }
   },
   "id": "30293ff3092cb616"
  },
  {
   "cell_type": "code",
   "execution_count": 30,
   "outputs": [
    {
     "name": "stdout",
     "output_type": "stream",
     "text": [
      "Random Forest:\n",
      "              precision    recall  f1-score   support\n",
      "\n",
      "        idle       1.00      1.00      1.00       190\n",
      "     running       1.00      1.00      1.00       677\n",
      "      stairs       1.00      0.94      0.97        35\n",
      "     walking       0.99      1.00      1.00       391\n",
      "\n",
      "    accuracy                           1.00      1293\n",
      "   macro avg       1.00      0.99      0.99      1293\n",
      "weighted avg       1.00      1.00      1.00      1293\n",
      "SVM:\n",
      "              precision    recall  f1-score   support\n",
      "\n",
      "        idle       1.00      1.00      1.00       190\n",
      "     running       1.00      1.00      1.00       677\n",
      "      stairs       0.95      0.57      0.71        35\n",
      "     walking       0.96      1.00      0.98       391\n",
      "\n",
      "    accuracy                           0.99      1293\n",
      "   macro avg       0.98      0.89      0.92      1293\n",
      "weighted avg       0.99      0.99      0.99      1293\n"
     ]
    }
   ],
   "source": [
    "# Random Forest\n",
    "model_rf = RandomForestClassifier(n_estimators=100)\n",
    "model_rf.fit(X_train, y_train)\n",
    "predictions_rf = model_rf.predict(X_test)\n",
    "print(\"Random Forest:\")\n",
    "print(classification_report(y_test, predictions_rf))\n",
    "\n",
    "# SVM\n",
    "model_svm = svm.SVC()\n",
    "model_svm.fit(X_train, y_train)\n",
    "predictions_svm = model_svm.predict(X_test)\n",
    "print(\"SVM:\")\n",
    "print(classification_report(y_test, predictions_svm))"
   ],
   "metadata": {
    "collapsed": false,
    "ExecuteTime": {
     "end_time": "2023-09-10T19:56:59.308487737Z",
     "start_time": "2023-09-10T19:56:57.338084438Z"
    }
   },
   "id": "a879deaeffa279df"
  },
  {
   "cell_type": "code",
   "execution_count": 31,
   "outputs": [],
   "source": [
    "# Обидві моделі добре підходять для цього типу задачі. RandomForest показала себе краще, ніж SVM для цього набору даних. Вона демонструє відмінну точність, повноту і F1-score 1.0 для всіх класів."
   ],
   "metadata": {
    "collapsed": false,
    "ExecuteTime": {
     "end_time": "2023-09-10T19:56:59.312602063Z",
     "start_time": "2023-09-10T19:56:59.284487144Z"
    }
   },
   "id": "96791d0a2f70a57a"
  },
  {
   "cell_type": "code",
   "execution_count": 32,
   "outputs": [
    {
     "name": "stdout",
     "output_type": "stream",
     "text": [
      "Best parameters for Random Forest:  {'n_estimators': 50, 'min_samples_split': 2, 'max_depth': 30}\n",
      "Best parameters for SVM:  {'kernel': 'poly', 'gamma': 1, 'C': 1}\n"
     ]
    }
   ],
   "source": [
    "# Random Forest\n",
    "param_rf = {\n",
    "    'n_estimators': [50, 100, 200],\n",
    "    'max_depth': [None, 10, 20, 30],\n",
    "    'min_samples_split': [2, 5, 10]\n",
    "}\n",
    "\n",
    "random_rf = RandomizedSearchCV(RandomForestClassifier(), param_rf, n_iter=10, cv=5)\n",
    "random_rf.fit(X_train, y_train)\n",
    "\n",
    "print(\"Best parameters for Random Forest: \", random_rf.best_params_)\n",
    "\n",
    "# SVM\n",
    "param_svm = {\n",
    "    'C': [0.1, 1, 10, 100],\n",
    "    'gamma': [1, 0.1, 0.01, 0.001],\n",
    "    'kernel': ['linear', 'poly', 'rbf', 'sigmoid']\n",
    "}\n",
    "\n",
    "random_svm = RandomizedSearchCV(svm.SVC(), param_svm, n_iter=10, cv=5)\n",
    "random_svm.fit(X_train, y_train)\n",
    "\n",
    "print(\"Best parameters for SVM: \", random_svm.best_params_)"
   ],
   "metadata": {
    "collapsed": false,
    "ExecuteTime": {
     "end_time": "2023-09-10T19:58:50.886118700Z",
     "start_time": "2023-09-10T19:56:59.304006600Z"
    }
   },
   "id": "acbafc65c6388528"
  },
  {
   "cell_type": "code",
   "execution_count": 33,
   "outputs": [],
   "source": [
    "# RandomizedSearchCV працює дуже схоже до GridSearchCV, але замість того, щоб пробувати всі можливі комбінації параметрів, він випадковим чином вибирає певну кількість комбінацій. Це може бути набагато швидше, особливо якщо у вас багато параметрів для налаштування."
   ],
   "metadata": {
    "collapsed": false,
    "ExecuteTime": {
     "end_time": "2023-09-10T19:58:50.897537019Z",
     "start_time": "2023-09-10T19:58:50.872752249Z"
    }
   },
   "id": "8275fdaab895ca95"
  }
 ],
 "metadata": {
  "kernelspec": {
   "display_name": "Python 3",
   "language": "python",
   "name": "python3"
  },
  "language_info": {
   "codemirror_mode": {
    "name": "ipython",
    "version": 2
   },
   "file_extension": ".py",
   "mimetype": "text/x-python",
   "name": "python",
   "nbconvert_exporter": "python",
   "pygments_lexer": "ipython2",
   "version": "2.7.6"
  }
 },
 "nbformat": 4,
 "nbformat_minor": 5
}
